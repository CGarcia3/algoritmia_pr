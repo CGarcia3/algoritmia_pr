{
 "cells": [
  {
   "cell_type": "code",
   "execution_count": 25,
   "metadata": {},
   "outputs": [
    {
     "name": "stdout",
     "output_type": "stream",
     "text": [
      "[[10, 6.354400011332473e-06], [11, 9.650900028645993e-06], [12, 9.134900028584526e-06], [13, 1.0596300035103922e-05], [14, 1.1739899946405785e-05], [15, 1.3724600012210431e-05], [16, 1.365450007142499e-05], [17, 1.3420100003713742e-05], [18, 1.6997100010485157e-05], [19, 1.8039899987343234e-05], [20, 2.0263500027795088e-05]]\n"
     ]
    },
    {
     "data": {
      "image/png": "[encoded data removed]",
      "text/plain": [
       "<Figure size 432x288 with 1 Axes>"
      ]
     },
     "metadata": {
      "needs_background": "light"
     },
     "output_type": "display_data"
    }
   ],
   "source": [
    "import matplotlib.pyplot as plt\n",
    "from timeit import timeit\n",
    "import numpy as np\n",
    "\n",
    "def min_heapify(h: np.ndarray, i: int):\n",
    "    left_child = 2*i+1\n",
    "    right_child = 2*i+2 \n",
    "    while  left_child < len(h):\n",
    "        aux = i\n",
    "        if h[aux] > h[left_child]:\n",
    "            aux = left_child\n",
    "        if (right_child) < len(h) and h[aux] > h[right_child]:\n",
    "            aux = right_child\n",
    "        if aux > i:\n",
    "            h[i], h[aux] = h[aux], h[i]\n",
    "            i = aux\n",
    "        else:\n",
    "            return \n",
    "            \n",
    "\n",
    "def create_min_heap(h: np.ndarray):\n",
    "    aux = np.empty(len(h))\n",
    "\n",
    "    for i in range(len(h)):\n",
    "        aux[i] = h[i]\n",
    "        min_heapify(aux, i)\n",
    "\n",
    "    h = aux\n",
    "\n",
    "\n",
    "def plot1():\n",
    "    l_timings = []\n",
    "    arr=[]\n",
    "    arr1=[]\n",
    "    arr_n=[]\n",
    "    for i in range(11):\n",
    "        dim = 10+i\n",
    "        h = list(np.random.permutation(dim))\n",
    "        timings = %timeit -o -n 10 -r 5 -q create_min_heap(h)\n",
    "        l_timings.append([dim, timings.best])\n",
    "        arr.append(dim)\n",
    "        arr1.append(timings.average)\n",
    "        arr_n.append(i)\n",
    "\n",
    "\n",
    "\n",
    "    print(l_timings)\n",
    "\n",
    "\n",
    "    \n",
    "    \n",
    "    plt.plot(arr, arr1, 'g-')\n",
    "    #plt.plot(arr, arr_n, 'r-')\n",
    "\n",
    "if __name__ == \"__main__\":\n",
    "    plot1()"
   ]
  },
  {
   "cell_type": "code",
   "execution_count": 3,
   "metadata": {},
   "outputs": [
    {
     "name": "stdout",
     "output_type": "stream",
     "text": [
      "[[10, 0.00042846389997066583], [11, 0.0005760629000178596], [12, 0.0007464383999831626], [13, 0.0009341840000161028], [14, 0.0011619732999861299], [15, 0.0014405879999685566], [16, 0.001715733199944225], [17, 0.002054184000007808], [18, 0.002413698700001987], [19, 0.0028558820000398554], [20, 0.0033167190999847662]]\n"
     ]
    }
   ],
   "source": [
    "from timeit import timeit\n",
    "import numpy as np\n",
    "\n",
    "def matrix_multiplication(m_1: np.ndarray, m_2: np.ndarray)-> np.ndarray:\n",
    "    \"\"\"Check the dimensions to see if they can be multiplied\"\"\"\n",
    "    if(m_1.shape[1]!=m_2.shape[0]):\n",
    "        return None\n",
    "\n",
    "    \"\"\"m_1.rows, m_2.columns\"\"\"\n",
    "    res = np.ndarray((m_1.shape[0], m_2.shape[1])) \n",
    "\n",
    "    \"\"\"Do the multiplication\"\"\"\n",
    "    for i in range(m_1.shape[0]):\n",
    "        for j in range(m_2.shape[1]):\n",
    "            sum=0\n",
    "            for k in range(m_1.shape[1]):\n",
    "                sum += m_1[i][k]*m_2[k][j] \n",
    "            res[i][j] = sum\n",
    "\n",
    "    return res\n",
    "\n",
    "if __name__==\"__main__\":\n",
    "    l_timings = []\n",
    "    \n",
    "    for i in range(11):\n",
    "        dim = 10+i\n",
    "        m = np.random.uniform(0., 1., (dim, dim))\n",
    "        timings = %timeit -o -n 10 -r 5 -q matrix_multiplication(m, m)\n",
    "        l_timings.append([dim, timings.best])\n",
    "\n",
    "    print(l_timings)"
   ]
  },
  {
   "cell_type": "code",
   "execution_count": 2,
   "metadata": {},
   "outputs": [
    {
     "name": "stdout",
     "output_type": "stream",
     "text": [
      "[[10, 7.997000466275495e-07], [11, 9.067000064533203e-07], [12, 9.02600004337728e-07], [13, 9.94099991658004e-07], [14, 1.0535000001254957e-06], [15, 1.2026000149489846e-06], [16, 1.0523999662837014e-06], [17, 1.190900002256967e-06], [18, 1.3136999768903478e-06], [19, 1.4708000890095719e-06], [20, 1.3632000445795712e-06]]\n"
     ]
    }
   ],
   "source": [
    "from timeit import timeit\n",
    "import numpy as np\n",
    "\n",
    "\n",
    "if __name__==\"__main__\":\n",
    "    l_timings = []\n",
    "    \n",
    "    for i in range(11):\n",
    "        dim = 10+i\n",
    "        m = np.random.uniform(0., 1., (dim, dim))\n",
    "        timings = %timeit -o -n 10 -r 5 -q m.dot(m)\n",
    "        l_timings.append([dim, timings.best])\n",
    "\n",
    "    print(l_timings)"
   ]
  },
  {
   "cell_type": "code",
   "execution_count": 18,
   "metadata": {},
   "outputs": [
    {
     "name": "stdout",
     "output_type": "stream",
     "text": [
      "Recursive bin search  [[5, 5.302500085235807e-07], [12, 1.0638099956850055e-06], [28, 1.2824500026908935e-06], [64, 1.5007000001787675e-06], [144, 1.7838100029621274e-06], [320, 2.126849994965596e-06], [704, 2.6293099926988363e-06], [1536, 2.865269998437725e-06], [3328, 3.1370699980470817e-06], [7168, 3.389530002095853e-06]]\n",
      "\n",
      "Iterative bin search  [[5, 5.23389999216306e-07], [12, 8.659000013722107e-07], [28, 1.0389700037194417e-06], [64, 1.2318799963395576e-06], [144, 1.4547899991157465e-06], [320, 1.7690700042294339e-06], [704, 2.1991300036461323e-06], [1536, 2.3938199956319294e-06], [3328, 2.6044799960800447e-06], [7168, 3.0659500043839218e-06]]\n"
     ]
    },
    {
     "name": "stderr",
     "output_type": "stream",
     "text": [
      "/tmp/ipykernel_13328/3619679780.py:49: RuntimeWarning: divide by zero encountered in log2\n",
      "  arr_log.append(np.log2(i))\n"
     ]
    },
    {
     "data": {
      "image/png": "[encoded data removed]",
      "text/plain": [
       "<Figure size 432x288 with 1 Axes>"
      ]
     },
     "metadata": {
      "needs_background": "light"
     },
     "output_type": "display_data"
    }
   ],
   "source": [
    "from timeit import timeit\n",
    "import numpy as np\n",
    "from typing import List, Callable\n",
    "import matplotlib.pyplot as plt\n",
    "\n",
    "def rec_bb(t: List, f: int, l: int, key: int)-> int:\n",
    "    if f>l:\n",
    "        return None\n",
    "    index = int(round((f+l)/2))\n",
    "    aux=t[index]\n",
    "    if aux==key:\n",
    "        return index\n",
    "    elif aux<key:\n",
    "        return rec_bb(t, index+1, l, key)\n",
    "    else:\n",
    "        return rec_bb(t, f, index-1, key)\n",
    "        \n",
    "def bb(t: List, f: int, l: int, key: int)-> int:\n",
    "    index = int(round((f+l)/2))\n",
    "    while t[index]!=key:\n",
    "        if t[index]<key:\n",
    "            f=index+1\n",
    "        elif t[index]>key:\n",
    "            l=index-1\n",
    "        if f>l:\n",
    "            return None\n",
    "        index = int(round((f+l)/2))\n",
    "    return index\n",
    "    \n",
    "if __name__==\"__main__\":\n",
    "    l_times = []\n",
    "    l_times2 = []\n",
    "    arr=[]\n",
    "    arr1=[]\n",
    "    arr2=[]\n",
    "    arr_log=[]\n",
    "    for i, size in enumerate(range(5, 15)): #(1,5;2,6;3,7;...;10,15)\n",
    "        t = list(range(2**i * size))\n",
    "        key = len(t) - 1 \n",
    "        timings = %timeit -n 100 -r 10 -o -q rec_bb(t, 0, len(t) - 1, key)\n",
    "        l_times.append([len(t), timings.best])\n",
    "        times = np.array(l_times)\n",
    "        timings2 = %timeit -n 100 -r 10 -o -q bb(t, 0, len(t) - 1, key)\n",
    "        l_times2.append([len(t), timings2.best])\n",
    "        times2 = np.array(l_times2)\n",
    "        arr.append(len(t))\n",
    "        arr1.append(timings.average)\n",
    "        arr2.append(timings2.average)\n",
    "        arr_log.append(np.log2(i))\n",
    "    print(\"Recursive bin search \",l_times)\n",
    "    print(\"\\nIterative bin search \", l_times2)\n",
    "    \n",
    "    plt.plot(arr, arr1, 'g-')\n",
    "    plt.plot(arr, arr2, 'b-')\n",
    "    #plt.plot(arr, arr_log, 'r-')\n",
    "\n"
   ]
  }
 ],
 "metadata": {
  "kernelspec": {
   "display_name": "Python 3.6.9 64-bit",
   "language": "python",
   "name": "python3"
  },
  "language_info": {
   "codemirror_mode": {
    "name": "ipython",
    "version": 3
   },
   "file_extension": ".py",
   "mimetype": "text/x-python",
   "name": "python",
   "nbconvert_exporter": "python",
   "pygments_lexer": "ipython3",
   "version": "3.10.4"
  },
  "orig_nbformat": 4,
  "vscode": {
   "interpreter": {
    "hash": "31f2aee4e71d21fbe5cf8b01ff0e069b9275f58929596ceb00d14d90e3e16cd6"
   }
  }
 },
 "nbformat": 4,
 "nbformat_minor": 2
}
