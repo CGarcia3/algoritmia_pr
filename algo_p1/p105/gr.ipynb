{
 "cells": [
  {
   "cell_type": "code",
   "execution_count": null,
   "metadata": {},
   "outputs": [
    {
     "ename": "",
     "evalue": "",
     "output_type": "error",
     "traceback": [
      "\u001b[1;31mNo se pudo iniciar el Kernel. \n",
      "\u001b[1;31mNo se puede ejecutar el código, se ha eliminado la sesión. \n",
      "\u001b[1;31mVea el [registro] de Jupyter (command:jupyter.viewOutput) para obtener más detalles."
     ]
    }
   ],
   "source": [
    "import matplotlib.pyplot as plt\n",
    "from timeit import timeit\n",
    "import numpy as np\n",
    "\n",
    "def min_heapify(h: np.ndarray, i: int):\n",
    "    left_child = 2*i+1\n",
    "    right_child = 2*i+2 \n",
    "    while  left_child < len(h):\n",
    "        aux = i\n",
    "        if h[aux] > h[left_child]:\n",
    "            aux = left_child\n",
    "        if (right_child) < len(h) and h[aux] > h[right_child]:\n",
    "            aux = right_child\n",
    "        if aux > i:\n",
    "            h[i], h[aux] = h[aux], h[i]\n",
    "            i = aux\n",
    "        else:\n",
    "            return \n",
    "            \n",
    "\n",
    "def create_min_heap(h: np.ndarray):\n",
    "    aux = np.empty(len(h))\n",
    "\n",
    "    for i in range(len(h)):\n",
    "        aux[i] = h[i]\n",
    "        min_heapify(aux, i)\n",
    "\n",
    "    h = aux\n",
    "\n",
    "\n",
    "def plot1():\n",
    "    l_timings = []\n",
    "    arr=[]\n",
    "    arr1=[]\n",
    "    for i in range(11):\n",
    "        dim = 10+i\n",
    "        h = list(np.random.permutation(dim))\n",
    "        timings = %timeit -o -n 10 -r 5 -q create_min_heap(h)\n",
    "        l_timings.append([dim, timings.best])\n",
    "        arr.append(dim)\n",
    "        arr1.append(timings.average)\n",
    "\n",
    "\n",
    "    print(l_timings)\n",
    "\n",
    "\n",
    "    for j in range(11):\n",
    "        d = {'x': l_timings[j][0], 'y': l_timings[j][1]}\n",
    "    \n",
    "    plt.plot(arr, arr1, 'g-')\n",
    "\n",
    "if __name__ == \"__main__\":\n",
    "    plot1()"
   ]
  }
 ],
 "metadata": {
  "kernelspec": {
   "display_name": "Python 3.6.9 64-bit",
   "language": "python",
   "name": "python3"
  },
  "language_info": {
   "name": "python",
   "version": "3.6.9"
  },
  "orig_nbformat": 4,
  "vscode": {
   "interpreter": {
    "hash": "31f2aee4e71d21fbe5cf8b01ff0e069b9275f58929596ceb00d14d90e3e16cd6"
   }
  }
 },
 "nbformat": 4,
 "nbformat_minor": 2
}
