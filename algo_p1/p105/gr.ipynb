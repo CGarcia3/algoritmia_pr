{
 "cells": [
  {
   "cell_type": "code",
   "execution_count": null,
   "metadata": {},
   "outputs": [
    {
     "ename": "",
     "evalue": "",
     "output_type": "error",
     "traceback": [
      "\u001b[1;31mNo se puede iniciar Jupyter. Error al intentar buscar Jupyter: La ejecución de celdas con 'Python 3.6.9 64-bit' requieren el paquete notebook.\n",
      "\u001b[1;31mEjecute el siguiente comando para instalar 'jupyter y notebook' en el entorno de Python. comando \n",
      "\u001b[1;31m: 'python -m pip install jupyter notebook -U\n",
      "\u001b[1;31mor\n",
      "\u001b[1;31mconda install jupyter notebook -U'\n",
      "\u001b[1;31mHaga clic <a href='https://aka.ms/installJupyterForVSCode'>aquí</a> para obtener más información."
     ]
    }
   ],
   "source": [
    "import matplotlib.pyplot as plt\n",
    "from timeit import timeit\n",
    "from .. import p105\n",
    "import numpy as np\n",
    "\n",
    "def plot1():\n",
    "    l_timings = []\n",
    "    for i in range(11):\n",
    "        dim = 10+i\n",
    "        h = list(np.random.permutation(dim))\n",
    "        timings = %timeit -o -n 10 -r 5 -q create_min_heap(h)\n",
    "        l_timings.append([dim, timings.best])\n",
    "\n",
    "    print(l_timings)"
   ]
  }
 ],
 "metadata": {
  "kernelspec": {
   "display_name": "Python 3.6.9 64-bit",
   "language": "python",
   "name": "python3"
  },
  "language_info": {
   "name": "python",
   "version": "3.6.9"
  },
  "orig_nbformat": 4,
  "vscode": {
   "interpreter": {
    "hash": "31f2aee4e71d21fbe5cf8b01ff0e069b9275f58929596ceb00d14d90e3e16cd6"
   }
  }
 },
 "nbformat": 4,
 "nbformat_minor": 2
}
