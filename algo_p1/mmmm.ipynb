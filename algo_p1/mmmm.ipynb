{
 "cells": [
  {
   "cell_type": "code",
   "execution_count": 50,
   "metadata": {},
   "outputs": [
    {
     "name": "stdout",
     "output_type": "stream",
     "text": [
      "Recursive bin search  [[5, 9.218099876306951e-07], [12, 2.8183299946249464e-06], [28, 2.7006299933418632e-06], [64, 3.2686399936210366e-06], [144, 3.8016400139895267e-06], [320, 2.6808599795913326e-06], [704, 3.351720006321557e-06], [1536, 6.446209990826901e-06], [3328, 4.0496499786968345e-06], [7168, 4.316560007282533e-06]]\n",
      "\n",
      "Iterative bin search  [[5, 1.490399990871083e-06], [12, 2.2747800176148304e-06], [28, 2.0577400209731423e-06], [64, 2.4863600265234707e-06], [144, 2.9179200282669626e-06], [320, 2.204349984822329e-06], [704, 2.758269984042272e-06], [1536, 5.248369998298585e-06], [3328, 3.2777200249256564e-06], [7168, 3.5233900052844545e-06]]\n"
     ]
    }
   ],
   "source": [
    "from timeit import timeit\n",
    "import numpy as np\n",
    "from typing import List, Callable\n",
    "\n",
    "def rec_bb(t: List, f: int, l: int, key: int)-> int:\n",
    "    if f>l:\n",
    "        return None\n",
    "    index = int(round((f+l)/2))\n",
    "    aux=t[index]\n",
    "    if aux==key:\n",
    "        return index\n",
    "    elif aux<key:\n",
    "        return rec_bb(t, index+1, l, key)\n",
    "    else:\n",
    "        return rec_bb(t, f, index-1, key)\n",
    "        \n",
    "def bb(t: List, f: int, l: int, key: int)-> int:\n",
    "    index = int(round((f+l)/2))\n",
    "    while t[index]!=key:\n",
    "        if t[index]<key:\n",
    "            f=index+1\n",
    "        elif t[index]>key:\n",
    "            l=index-1\n",
    "        if f>l:\n",
    "            return None\n",
    "        index = int(round((f+l)/2))\n",
    "    return index\n",
    "    \n",
    "if __name__==\"__main__\":\n",
    "    l_times = []\n",
    "    l_times2 = []\n",
    "    for i, size in enumerate(range(5, 15)): #(1,5;2,6;3,7;...;10,15)\n",
    "        t = list(range(2**i * size))\n",
    "        key = len(t) - 1 \n",
    "        timings = %timeit -n 100 -r 10 -o -q rec_bb(t, 0, len(t) - 1, key)\n",
    "        l_times.append([len(t), timings.best])\n",
    "        times = np.array(l_times)\n",
    "        timings2 = %timeit -n 100 -r 10 -o -q bb(t, 0, len(t) - 1, key)\n",
    "        l_times2.append([len(t), timings2.best])\n",
    "        times2 = np.array(l_times2)\n",
    "    print(\"Recursive bin search \",l_times)\n",
    "    print(\"\\nIterative bin search \", l_times2)\n",
    "    "
   ]
  }
 ],
 "metadata": {
  "kernelspec": {
   "display_name": "Python 3.10.4 64-bit",
   "language": "python",
   "name": "python3"
  },
  "language_info": {
   "codemirror_mode": {
    "name": "ipython",
    "version": 3
   },
   "file_extension": ".py",
   "mimetype": "text/x-python",
   "name": "python",
   "nbconvert_exporter": "python",
   "pygments_lexer": "ipython3",
   "version": "3.10.4"
  },
  "orig_nbformat": 4,
  "vscode": {
   "interpreter": {
    "hash": "916dbcbb3f70747c44a77c7bcd40155683ae19c65e1c03b4aa3499c5328201f1"
   }
  }
 },
 "nbformat": 4,
 "nbformat_minor": 2
}
