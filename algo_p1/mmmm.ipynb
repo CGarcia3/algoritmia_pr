{
 "cells": [
  {
   "cell_type": "code",
   "execution_count": 4,
   "metadata": {},
   "outputs": [
    {
     "name": "stdout",
     "output_type": "stream",
     "text": [
      "[[10, 0.0008256506999714475], [11, 0.0006645090999882087], [12, 0.0008558713000638817], [13, 0.0010742132000814309], [14, 0.0013488853000126256], [15, 0.0016453879999971833], [16, 0.0019833035000374364], [17, 0.0023839319000217075], [18, 0.002758673100015585], [19, 0.003153595399999176], [20, 0.0037381026999355528]]\n"
     ]
    }
   ],
   "source": [
    "from timeit import timeit\n",
    "import numpy as np\n",
    "import timeit\n",
    "\n",
    "def matrix_multiplication(m_1: np.ndarray, m_2: np.ndarray)-> np.ndarray:\n",
    "    if(m_1.shape[1]!=m_2.shape[0]):\n",
    "        return None\n",
    "\n",
    "    res = np.ndarray((m_1.shape[0], m_2.shape[1])) #m_1.rows, m_2.columns\n",
    "    for i in range(m_1.shape[0]):\n",
    "        for j in range(m_2.shape[1]):\n",
    "            sum=0\n",
    "            for k in range(m_1.shape[1]):\n",
    "                sum += m_1[i][k]*m_2[k][j] \n",
    "            res[i][j] = sum\n",
    "    return res\n",
    "\n",
    "if __name__==\"__main__\":\n",
    "    l_timings = []\n",
    "    for i in range(11):\n",
    "        dim = 10+i\n",
    "        m = np.random.uniform(0., 1., (dim, dim))\n",
    "        timings = %timeit -o -n 10 -r 5 -q matrix_multiplication(m, m)\n",
    "        l_timings.append([dim, timings.best])\n",
    "\n",
    "    print(l_timings)"
   ]
  }
 ],
 "metadata": {
  "kernelspec": {
   "display_name": "Python 3.10.4 64-bit",
   "language": "python",
   "name": "python3"
  },
  "language_info": {
   "codemirror_mode": {
    "name": "ipython",
    "version": 3
   },
   "file_extension": ".py",
   "mimetype": "text/x-python",
   "name": "python",
   "nbconvert_exporter": "python",
   "pygments_lexer": "ipython3",
   "version": "3.10.4"
  },
  "orig_nbformat": 4,
  "vscode": {
   "interpreter": {
    "hash": "916dbcbb3f70747c44a77c7bcd40155683ae19c65e1c03b4aa3499c5328201f1"
   }
  }
 },
 "nbformat": 4,
 "nbformat_minor": 2
}
