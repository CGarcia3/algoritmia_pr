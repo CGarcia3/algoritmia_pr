{
 "cells": [
  {
   "cell_type": "code",
   "execution_count": 25,
   "metadata": {},
   "outputs": [
    {
     "name": "stdout",
     "output_type": "stream",
     "text": [
      "[[10, 6.354400011332473e-06], [11, 9.650900028645993e-06], [12, 9.134900028584526e-06], [13, 1.0596300035103922e-05], [14, 1.1739899946405785e-05], [15, 1.3724600012210431e-05], [16, 1.365450007142499e-05], [17, 1.3420100003713742e-05], [18, 1.6997100010485157e-05], [19, 1.8039899987343234e-05], [20, 2.0263500027795088e-05]]\n"
     ]
    },
    {
     "data": {
      "image/png": "[encoded data removed]",
      "text/plain": [
       "<Figure size 432x288 with 1 Axes>"
      ]
     },
     "metadata": {
      "needs_background": "light"
     },
     "output_type": "display_data"
    }
   ],
   "source": [
    "import matplotlib.pyplot as plt\n",
    "from timeit import timeit\n",
    "import numpy as np\n",
    "\n",
    "def min_heapify(h: np.ndarray, i: int):\n",
    "    left_child = 2*i+1\n",
    "    right_child = 2*i+2 \n",
    "    while  left_child < len(h):\n",
    "        aux = i\n",
    "        if h[aux] > h[left_child]:\n",
    "            aux = left_child\n",
    "        if (right_child) < len(h) and h[aux] > h[right_child]:\n",
    "            aux = right_child\n",
    "        if aux > i:\n",
    "            h[i], h[aux] = h[aux], h[i]\n",
    "            i = aux\n",
    "        else:\n",
    "            return \n",
    "            \n",
    "\n",
    "def create_min_heap(h: np.ndarray):\n",
    "    aux = np.empty(len(h))\n",
    "\n",
    "    for i in range(len(h)):\n",
    "        aux[i] = h[i]\n",
    "        min_heapify(aux, i)\n",
    "\n",
    "    h = aux\n",
    "\n",
    "\n",
    "def plot1():\n",
    "    l_timings = []\n",
    "    arr=[]\n",
    "    arr1=[]\n",
    "    arr_n=[]\n",
    "    for i in range(11):\n",
    "        dim = 10+i\n",
    "        h = list(np.random.permutation(dim))\n",
    "        timings = %timeit -o -n 10 -r 5 -q create_min_heap(h)\n",
    "        l_timings.append([dim, timings.best])\n",
    "        arr.append(dim)\n",
    "        arr1.append(timings.average)\n",
    "        arr_n.append(i)\n",
    "\n",
    "\n",
    "\n",
    "    print(l_timings)\n",
    "\n",
    "\n",
    "    \n",
    "    \n",
    "    plt.plot(arr, arr1, 'g-')\n",
    "    #plt.plot(arr, arr_n, 'r-')\n",
    "\n",
    "if __name__ == \"__main__\":\n",
    "    plot1()"
   ]
  },
  {
   "cell_type": "code",
   "execution_count": 3,
   "metadata": {},
   "outputs": [
    {
     "name": "stdout",
     "output_type": "stream",
     "text": [
      "[[10, 0.00042846389997066583], [11, 0.0005760629000178596], [12, 0.0007464383999831626], [13, 0.0009341840000161028], [14, 0.0011619732999861299], [15, 0.0014405879999685566], [16, 0.001715733199944225], [17, 0.002054184000007808], [18, 0.002413698700001987], [19, 0.0028558820000398554], [20, 0.0033167190999847662]]\n"
     ]
    }
   ],
   "source": [
    "from timeit import timeit\n",
    "import numpy as np\n",
    "\n",
    "def matrix_multiplication(m_1: np.ndarray, m_2: np.ndarray)-> np.ndarray:\n",
    "    \"\"\"Check the dimensions to see if they can be multiplied\"\"\"\n",
    "    if(m_1.shape[1]!=m_2.shape[0]):\n",
    "        return None\n",
    "\n",
    "    \"\"\"m_1.rows, m_2.columns\"\"\"\n",
    "    res = np.ndarray((m_1.shape[0], m_2.shape[1])) \n",
    "\n",
    "    \"\"\"Do the multiplication\"\"\"\n",
    "    for i in range(m_1.shape[0]):\n",
    "        for j in range(m_2.shape[1]):\n",
    "            sum=0\n",
    "            for k in range(m_1.shape[1]):\n",
    "                sum += m_1[i][k]*m_2[k][j] \n",
    "            res[i][j] = sum\n",
    "\n",
    "    return res\n",
    "\n",
    "if __name__==\"__main__\":\n",
    "    l_timings = []\n",
    "    \n",
    "    for i in range(11):\n",
    "        dim = 10+i\n",
    "        m = np.random.uniform(0., 1., (dim, dim))\n",
    "        timings = %timeit -o -n 10 -r 5 -q matrix_multiplication(m, m)\n",
    "        l_timings.append([dim, timings.best])\n",
    "\n",
    "    print(l_timings)"
   ]
  },
  {
   "cell_type": "code",
   "execution_count": 16,
   "metadata": {},
   "outputs": [
    {
     "name": "stdout",
     "output_type": "stream",
     "text": [
      "[[10, 1.1518000974319876e-06], [11, 2.022099943133071e-06], [12, 1.3766000847681426e-06], [13, 2.641399987624027e-06], [14, 1.5548999726888725e-06], [15, 3.4263999623362907e-06], [16, 2.5702000129967926e-06], [17, 1.8299000657862051e-06], [18, 2.0870000298600642e-06], [19, 2.314999983354937e-06], [20, 2.106200008711312e-06], [21, 2.5178000214509665e-06], [22, 2.770699938992038e-06], [23, 3.059800110349897e-06], [24, 2.9655999242095278e-06], [25, 3.3799000448198057e-06], [26, 3.562399979273323e-06], [27, 5.776800026069395e-06], [28, 4.0676999560673725e-06], [29, 7.224299952213187e-06], [30, 4.935399920213967e-06], [31, 5.612600034510251e-06], [32, 5.128700104251039e-06], [33, 5.926700032432563e-06], [34, 6.177399882290047e-06], [35, 8.511399937560781e-06], [36, 1.0842599840543698e-05], [37, 1.1702899973897729e-05], [38, 1.2438100020517595e-05], [39, 1.3141199997335206e-05], [40, 1.2646799950744025e-05], [41, 1.4977600039856043e-05], [42, 1.5194299885479268e-05], [43, 1.7661899983067995e-05], [44, 1.51680000271881e-05], [45, 1.788970002962742e-05], [46, 1.8628100042406005e-05], [47, 2.0584000048984306e-05], [48, 1.7195899999933317e-05], [49, 1.8964699847856537e-05], [50, 1.9832900034089106e-05], [51, 2.0907299949612933e-05], [52, 2.0264600061636882e-05], [53, 2.155010006390512e-05], [54, 2.159960004064487e-05], [55, 2.430849999655038e-05], [56, 1.9876799888152165e-05], [57, 2.454330006003147e-05], [58, 2.4697399931028484e-05], [59, 2.7672799842548556e-05]]\n"
     ]
    },
    {
     "data": {
      "image/png": "[encoded data removed]",
      "text/plain": [
       "<Figure size 432x288 with 1 Axes>"
      ]
     },
     "metadata": {
      "needs_background": "light"
     },
     "output_type": "display_data"
    }
   ],
   "source": [
    "from timeit import timeit\n",
    "import numpy as np\n",
    "import matplotlib.pyplot as plt\n",
    "\n",
    "\n",
    "if __name__==\"__main__\":\n",
    "    l_timings = []\n",
    "    arr=[]\n",
    "    arr1=[]\n",
    "    \n",
    "    for i in range(50):\n",
    "        dim = 10+i\n",
    "        m = np.random.uniform(0., 1., (dim, dim))\n",
    "        timings = %timeit -o -n 10 -r 5 -q m.dot(m)\n",
    "        l_timings.append([dim, timings.best])\n",
    "        arr.append(dim)\n",
    "        arr1.append(timings.best)\n",
    "\n",
    "    print(l_timings)\n",
    "    plt.title(\"Dot function\")\n",
    "    plt.plot(arr, arr1, \"g-\")"
   ]
  },
  {
   "cell_type": "code",
   "execution_count": 2,
   "metadata": {},
   "outputs": [
    {
     "name": "stderr",
     "output_type": "stream",
     "text": [
      "/tmp/ipykernel_9810/3619679780.py:49: RuntimeWarning: divide by zero encountered in log2\n",
      "  arr_log.append(np.log2(i))\n"
     ]
    },
    {
     "name": "stdout",
     "output_type": "stream",
     "text": [
      "Recursive bin search  [[5, 6.456799974330352e-07], [12, 1.2445399988791905e-06], [28, 1.537740004096122e-06], [64, 1.81708999662078e-06], [144, 2.198759998464084e-06], [320, 2.650559999892721e-06], [704, 3.3136899992314284e-06], [1536, 3.5266399981992436e-06], [3328, 3.839000000880332e-06], [7168, 4.141600002185442e-06]]\n",
      "\n",
      "Iterative bin search  [[5, 6.1179000113043e-07], [12, 1.0288100020261482e-06], [28, 1.3058500007900875e-06], [64, 1.5193699982773978e-06], [144, 1.7994399968301877e-06], [320, 2.2020400001565576e-06], [704, 2.6658799970391557e-06], [1536, 2.9258399990794715e-06], [3328, 3.187259999322123e-06], [7168, 3.427100000408245e-06]]\n"
     ]
    },
    {
     "data": {
      "image/png": "[encoded data removed]",
      "text/plain": [
       "<Figure size 432x288 with 1 Axes>"
      ]
     },
     "metadata": {
      "needs_background": "light"
     },
     "output_type": "display_data"
    }
   ],
   "source": [
    "from timeit import timeit\n",
    "import numpy as np\n",
    "from typing import List, Callable\n",
    "import matplotlib.pyplot as plt\n",
    "\n",
    "def rec_bb(t: List, f: int, l: int, key: int)-> int:\n",
    "    if f>l:\n",
    "        return None\n",
    "    index = int(round((f+l)/2))\n",
    "    aux=t[index]\n",
    "    if aux==key:\n",
    "        return index\n",
    "    elif aux<key:\n",
    "        return rec_bb(t, index+1, l, key)\n",
    "    else:\n",
    "        return rec_bb(t, f, index-1, key)\n",
    "        \n",
    "def bb(t: List, f: int, l: int, key: int)-> int:\n",
    "    index = int(round((f+l)/2))\n",
    "    while t[index]!=key:\n",
    "        if t[index]<key:\n",
    "            f=index+1\n",
    "        elif t[index]>key:\n",
    "            l=index-1\n",
    "        if f>l:\n",
    "            return None\n",
    "        index = int(round((f+l)/2))\n",
    "    return index\n",
    "    \n",
    "if __name__==\"__main__\":\n",
    "    l_times = []\n",
    "    l_times2 = []\n",
    "    arr=[]\n",
    "    arr1=[]\n",
    "    arr2=[]\n",
    "    arr_log=[]\n",
    "    for i, size in enumerate(range(5, 15)): #(1,5;2,6;3,7;...;10,15)\n",
    "        t = list(range(2**i * size))\n",
    "        key = len(t) - 1 \n",
    "        timings = %timeit -n 100 -r 10 -o -q rec_bb(t, 0, len(t) - 1, key)\n",
    "        l_times.append([len(t), timings.best])\n",
    "        times = np.array(l_times)\n",
    "        timings2 = %timeit -n 100 -r 10 -o -q bb(t, 0, len(t) - 1, key)\n",
    "        l_times2.append([len(t), timings2.best])\n",
    "        times2 = np.array(l_times2)\n",
    "        arr.append(len(t))\n",
    "        arr1.append(timings.average)\n",
    "        arr2.append(timings2.average)\n",
    "        arr_log.append(np.log2(i))\n",
    "    print(\"Recursive bin search \",l_times)\n",
    "    print(\"\\nIterative bin search \", l_times2)\n",
    "    \n",
    "    plt.plot(arr, arr1, 'g-')\n",
    "    plt.plot(arr, arr2, 'b-')\n",
    "    #plt.plot(arr, arr_log, 'r-')\n",
    "\n"
   ]
  },
  {
   "cell_type": "code",
   "execution_count": 13,
   "metadata": {},
   "outputs": [
    {
     "ename": "ModuleNotFoundError",
     "evalue": "No module named 'sklearn'",
     "output_type": "error",
     "traceback": [
      "\u001b[0;31m---------------------------------------------------------------------------\u001b[0m",
      "\u001b[0;31mModuleNotFoundError\u001b[0m                       Traceback (most recent call last)",
      "\u001b[0;32m/tmp/ipykernel_10612/1448765561.py\u001b[0m in \u001b[0;36m<cell line: 2>\u001b[0;34m()\u001b[0m\n\u001b[1;32m      1\u001b[0m \u001b[0;32mfrom\u001b[0m \u001b[0mtyping\u001b[0m \u001b[0;32mimport\u001b[0m \u001b[0mCallable\u001b[0m\u001b[0;34m\u001b[0m\u001b[0;34m\u001b[0m\u001b[0m\n\u001b[0;32m----> 2\u001b[0;31m \u001b[0;32mfrom\u001b[0m \u001b[0msklearn\u001b[0m\u001b[0;34m.\u001b[0m\u001b[0mlinear_model\u001b[0m \u001b[0;32mimport\u001b[0m \u001b[0mLinearRegression\u001b[0m\u001b[0;34m\u001b[0m\u001b[0;34m\u001b[0m\u001b[0m\n\u001b[0m\u001b[1;32m      3\u001b[0m \u001b[0;32mimport\u001b[0m \u001b[0mmatplotlib\u001b[0m\u001b[0;34m.\u001b[0m\u001b[0mpyplot\u001b[0m \u001b[0;32mas\u001b[0m \u001b[0mplt\u001b[0m\u001b[0;34m\u001b[0m\u001b[0;34m\u001b[0m\u001b[0m\n\u001b[1;32m      4\u001b[0m \u001b[0;32mimport\u001b[0m \u001b[0mnumpy\u001b[0m \u001b[0;32mas\u001b[0m \u001b[0mnp\u001b[0m\u001b[0;34m\u001b[0m\u001b[0;34m\u001b[0m\u001b[0m\n\u001b[1;32m      5\u001b[0m \u001b[0;34m\u001b[0m\u001b[0m\n",
      "\u001b[0;31mModuleNotFoundError\u001b[0m: No module named 'sklearn'"
     ]
    }
   ],
   "source": [
    "from typing import Callable\n",
    "from sklearn.linear_model import LinearRegression\n",
    "import matplotlib.pyplot as plt\n",
    "import numpy as np\n",
    "\n",
    "def matrix_multiplication(m_1: np.ndarray, m_2: np.ndarray)-> np.ndarray:\n",
    "    \"\"\"Check the dimensions to see if they can be multiplied\"\"\"\n",
    "    if(m_1.shape[1]!=m_2.shape[0]):\n",
    "        return None\n",
    "\n",
    "    \"\"\"m_1.rows, m_2.columns\"\"\"\n",
    "    res = np.ndarray((m_1.shape[0], m_2.shape[1])) \n",
    "\n",
    "    \"\"\"Do the multiplication\"\"\"\n",
    "    for i in range(m_1.shape[0]):\n",
    "        for j in range(m_2.shape[1]):\n",
    "            sum=0\n",
    "            for k in range(m_1.shape[1]):\n",
    "                sum += m_1[i][k]*m_2[k][j] \n",
    "            res[i][j] = sum\n",
    "\n",
    "    return res\n",
    "\n",
    "def fit_func_2_times(timings: np.ndarray, func_2_fit: Callable):\n",
    "    \"\"\"Ajusta linealmente los valores de la funcion func_2_fit a\n",
    "    los tiempos en timings.\n",
    "    Esto es, calculamos valores a, b para que la funcion a*f(dim) + b\n",
    "    se ajuste a los tiempos medidos.\n",
    "    \"\"\"\n",
    "    if len(timings.shape) == 1:\n",
    "        timings = timings.reshape(-1, 1)\n",
    "    values = func_2_fit(timings[ :, 0]).reshape(-1, 1)\n",
    "    \n",
    "    #normalizar timings\n",
    "    times = timings[ : , 1] / timings[0, 1]\n",
    "    \n",
    "    #ajustar a los valores en times un modelo lineal sobre los valores en values\n",
    "    lr_m = LinearRegression()\n",
    "    lr_m.fit(values, times)\n",
    "    return lr_m.predict(values)\n",
    "\n",
    "def func_2_fit(n):\n",
    "    return np.power(n,3)\n",
    "\n",
    "if __name__==\"__main__\":\n",
    "    l_timings = []\n",
    "    arr = []\n",
    "    arr1= []\n",
    "    \n",
    "    for i in range(21):\n",
    "        dim = 10+i\n",
    "        m = np.random.uniform(0., 1., (dim, dim))\n",
    "        timings = %timeit -o -n 10 -r 5 -q matrix_multiplication(m, m)\n",
    "        l_timings.append([dim, timings.best])\n",
    "        arr.append(dim)\n",
    "        arr1.append(timings.worst)\n",
    "\n",
    "    #print(l_timings)\n",
    "    print(fit_func_2_times(np.array(l_timings), func_2_fit))\n",
    "\n",
    "    print(np.power(3,3))\n",
    "    \n",
    "    plt.plot(arr, fit_func_2_times(np.array(l_timings), func_2_fit), 'g-')\n",
    "    plt.plot(arr, arr1, 'b-')"
   ]
  }
 ],
 "metadata": {
  "kernelspec": {
   "display_name": "Python 3.6.9 64-bit",
   "language": "python",
   "name": "python3"
  },
  "language_info": {
   "codemirror_mode": {
    "name": "ipython",
    "version": 3
   },
   "file_extension": ".py",
   "mimetype": "text/x-python",
   "name": "python",
   "nbconvert_exporter": "python",
   "pygments_lexer": "ipython3",
   "version": "3.10.4"
  },
  "orig_nbformat": 4,
  "vscode": {
   "interpreter": {
    "hash": "31f2aee4e71d21fbe5cf8b01ff0e069b9275f58929596ceb00d14d90e3e16cd6"
   }
  }
 },
 "nbformat": 4,
 "nbformat_minor": 2
}
